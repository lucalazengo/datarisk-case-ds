{
 "cells": [
  {
   "cell_type": "code",
   "execution_count": 2,
   "id": "442d16af",
   "metadata": {},
   "outputs": [],
   "source": [
    "import pandas as pandas"
   ]
  },
  {
   "cell_type": "code",
   "execution_count": 4,
   "id": "69593fc3",
   "metadata": {},
   "outputs": [
    {
     "data": {
      "text/html": [
       "<div>\n",
       "<style scoped>\n",
       "    .dataframe tbody tr th:only-of-type {\n",
       "        vertical-align: middle;\n",
       "    }\n",
       "\n",
       "    .dataframe tbody tr th {\n",
       "        vertical-align: top;\n",
       "    }\n",
       "\n",
       "    .dataframe thead th {\n",
       "        text-align: right;\n",
       "    }\n",
       "</style>\n",
       "<table border=\"1\" class=\"dataframe\">\n",
       "  <thead>\n",
       "    <tr style=\"text-align: right;\">\n",
       "      <th></th>\n",
       "      <th>ID_CLIENTE;DATA_CADASTRO;DDD;FLAG_PF;SEGMENTO_INDUSTRIAL;DOMINIO_EMAIL;PORTE;CEP_2_DIG</th>\n",
       "    </tr>\n",
       "  </thead>\n",
       "  <tbody>\n",
       "    <tr>\n",
       "      <th>0</th>\n",
       "      <td>1661240395903230676;2013-08-22;99;;Serviços;YA...</td>\n",
       "    </tr>\n",
       "    <tr>\n",
       "      <th>1</th>\n",
       "      <td>8274986328479596038;2017-01-25;31;;Comércio;YA...</td>\n",
       "    </tr>\n",
       "    <tr>\n",
       "      <th>2</th>\n",
       "      <td>345447888460137901;2000-08-15;75;;Serviços;HOT...</td>\n",
       "    </tr>\n",
       "    <tr>\n",
       "      <th>3</th>\n",
       "      <td>1003144834589372198;2017-08-06;49;;Serviços;OU...</td>\n",
       "    </tr>\n",
       "    <tr>\n",
       "      <th>4</th>\n",
       "      <td>324916756972236008;2011-02-14;88;;Serviços;GMA...</td>\n",
       "    </tr>\n",
       "    <tr>\n",
       "      <th>...</th>\n",
       "      <td>...</td>\n",
       "    </tr>\n",
       "    <tr>\n",
       "      <th>1310</th>\n",
       "      <td>3431426889924624821;2020-08-13;92;;Serviços;HO...</td>\n",
       "    </tr>\n",
       "    <tr>\n",
       "      <th>1311</th>\n",
       "      <td>5288503299611498087;2020-11-03;;;Comércio;YAHO...</td>\n",
       "    </tr>\n",
       "    <tr>\n",
       "      <th>1312</th>\n",
       "      <td>957773253650890560;2021-07-05;;;Comércio;GMAIL...</td>\n",
       "    </tr>\n",
       "    <tr>\n",
       "      <th>1313</th>\n",
       "      <td>6094038865287329652;2021-07-05;;;Serviços;GMAI...</td>\n",
       "    </tr>\n",
       "    <tr>\n",
       "      <th>1314</th>\n",
       "      <td>1592581784061157609;2002-05-14;(2;;Comércio;;M...</td>\n",
       "    </tr>\n",
       "  </tbody>\n",
       "</table>\n",
       "<p>1315 rows × 1 columns</p>\n",
       "</div>"
      ],
      "text/plain": [
       "     ID_CLIENTE;DATA_CADASTRO;DDD;FLAG_PF;SEGMENTO_INDUSTRIAL;DOMINIO_EMAIL;PORTE;CEP_2_DIG\n",
       "0     1661240395903230676;2013-08-22;99;;Serviços;YA...                                    \n",
       "1     8274986328479596038;2017-01-25;31;;Comércio;YA...                                    \n",
       "2     345447888460137901;2000-08-15;75;;Serviços;HOT...                                    \n",
       "3     1003144834589372198;2017-08-06;49;;Serviços;OU...                                    \n",
       "4     324916756972236008;2011-02-14;88;;Serviços;GMA...                                    \n",
       "...                                                 ...                                    \n",
       "1310  3431426889924624821;2020-08-13;92;;Serviços;HO...                                    \n",
       "1311  5288503299611498087;2020-11-03;;;Comércio;YAHO...                                    \n",
       "1312  957773253650890560;2021-07-05;;;Comércio;GMAIL...                                    \n",
       "1313  6094038865287329652;2021-07-05;;;Serviços;GMAI...                                    \n",
       "1314  1592581784061157609;2002-05-14;(2;;Comércio;;M...                                    \n",
       "\n",
       "[1315 rows x 1 columns]"
      ]
     },
     "execution_count": 4,
     "metadata": {},
     "output_type": "execute_result"
    }
   ],
   "source": [
    "data = pandas.read_csv(r'C:\\Users\\mlzengo\\Desktop\\datarisk-case-ds\\data\\base_cadastral.csv')\n",
    "\n",
    "data"
   ]
  }
 ],
 "metadata": {
  "kernelspec": {
   "display_name": ".venv",
   "language": "python",
   "name": "python3"
  },
  "language_info": {
   "codemirror_mode": {
    "name": "ipython",
    "version": 3
   },
   "file_extension": ".py",
   "mimetype": "text/x-python",
   "name": "python",
   "nbconvert_exporter": "python",
   "pygments_lexer": "ipython3",
   "version": "3.12.7"
  }
 },
 "nbformat": 4,
 "nbformat_minor": 5
}
